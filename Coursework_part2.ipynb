{
 "cells": [
  {
   "cell_type": "code",
   "execution_count": 1,
   "metadata": {
    "colab": {
     "base_uri": "https://localhost:8080/"
    },
    "id": "LHt2-9poqn0K",
    "outputId": "927ffc52-e34a-4fdb-863d-7da63d467120"
   },
   "outputs": [
    {
     "name": "stderr",
     "output_type": "stream",
     "text": [
      "[nltk_data] Downloading package stopwords to\n",
      "[nltk_data]     C:\\Users\\MSI\\AppData\\Roaming\\nltk_data...\n",
      "[nltk_data]   Package stopwords is already up-to-date!\n"
     ]
    }
   ],
   "source": [
    "# Importing required Python libraries.\n",
    "\n",
    "import nltk\n",
    "from nltk.corpus import stopwords\n",
    "from nltk.stem import PorterStemmer\n",
    "import pandas as pd\n",
    "from sklearn.model_selection import train_test_split, GridSearchCV, KFold\n",
    "from sklearn.feature_extraction.text import CountVectorizer, TfidfVectorizer\n",
    "from sklearn.metrics import accuracy_score, classification_report, confusion_matrix\n",
    "from sklearn.feature_selection import SelectKBest,chi2\n",
    "from sklearn.svm import SVC\n",
    "import matplotlib.pyplot as plt\n",
    "import os\n",
    "import seaborn as sns\n",
    "\n",
    "\n",
    "# Downloading the set of stopwords, which we will be using for preprocessing of our dataset\n",
    "nltk.download('stopwords')\n",
    "stop_words = set(stopwords.words('english'))\n",
    "\n",
    "\n",
    "# Using Porterstemmer for stemming, i.e converting the word to its original form.\n",
    "ps = PorterStemmer()\n"
   ]
  },
  {
   "cell_type": "code",
   "execution_count": 10,
   "metadata": {
    "id": "_qpm5en0rDJm"
   },
   "outputs": [],
   "source": [
    "# Loading Dataset\n",
    "\n",
    "root_dir = \"C:/Users/MSI/Downloads/bbc/bbc\"\n",
    "\n",
    "texts = []\n",
    "categories = []\n",
    "\n",
    "for category in os.listdir(root_dir):\n",
    "    category_dir = os.path.join(root_dir, category)\n",
    "    if os.path.isdir(category_dir):\n",
    "        for file_name in os.listdir(category_dir):\n",
    "            file_path = os.path.join(category_dir, file_name)\n",
    "            if os.path.isfile(file_path) and file_name.endswith('.txt'):\n",
    "                with open(file_path, 'r', encoding='unicode-escape') as file:\n",
    "                    content = file.read()\n",
    "                texts.append(content)\n",
    "                categories.append(category)\n",
    "\n",
    "df = pd.DataFrame({'text': texts, 'category': categories})\n",
    "\n",
    "df.to_csv('C:/Users/MSI/Downloads/bbc/news_article.csv', index=False)\n",
    "\n",
    "\n",
    "\n",
    "df = pd.read_csv('C:/Users/MSI/Downloads/bbc/news_article.csv')"
   ]
  },
  {
   "cell_type": "code",
   "execution_count": 11,
   "metadata": {
    "colab": {
     "base_uri": "https://localhost:8080/",
     "height": 204
    },
    "id": "LyzBdOjVt2UF",
    "outputId": "bf24e26a-8f10-4b1d-8fa0-43de1463a008"
   },
   "outputs": [
    {
     "data": {
      "text/html": [
       "<div>\n",
       "<style scoped>\n",
       "    .dataframe tbody tr th:only-of-type {\n",
       "        vertical-align: middle;\n",
       "    }\n",
       "\n",
       "    .dataframe tbody tr th {\n",
       "        vertical-align: top;\n",
       "    }\n",
       "\n",
       "    .dataframe thead th {\n",
       "        text-align: right;\n",
       "    }\n",
       "</style>\n",
       "<table border=\"1\" class=\"dataframe\">\n",
       "  <thead>\n",
       "    <tr style=\"text-align: right;\">\n",
       "      <th></th>\n",
       "      <th>text</th>\n",
       "      <th>category</th>\n",
       "    </tr>\n",
       "  </thead>\n",
       "  <tbody>\n",
       "    <tr>\n",
       "      <th>0</th>\n",
       "      <td>Ad sales boost Time Warner profit\\n\\nQuarterly...</td>\n",
       "      <td>business</td>\n",
       "    </tr>\n",
       "    <tr>\n",
       "      <th>1</th>\n",
       "      <td>Dollar gains on Greenspan speech\\n\\nThe dollar...</td>\n",
       "      <td>business</td>\n",
       "    </tr>\n",
       "    <tr>\n",
       "      <th>2</th>\n",
       "      <td>Yukos unit buyer faces loan claim\\n\\nThe owner...</td>\n",
       "      <td>business</td>\n",
       "    </tr>\n",
       "    <tr>\n",
       "      <th>3</th>\n",
       "      <td>High fuel prices hit BA's profits\\n\\nBritish A...</td>\n",
       "      <td>business</td>\n",
       "    </tr>\n",
       "    <tr>\n",
       "      <th>4</th>\n",
       "      <td>Pernod takeover talk lifts Domecq\\n\\nShares in...</td>\n",
       "      <td>business</td>\n",
       "    </tr>\n",
       "  </tbody>\n",
       "</table>\n",
       "</div>"
      ],
      "text/plain": [
       "                                                text  category\n",
       "0  Ad sales boost Time Warner profit\\n\\nQuarterly...  business\n",
       "1  Dollar gains on Greenspan speech\\n\\nThe dollar...  business\n",
       "2  Yukos unit buyer faces loan claim\\n\\nThe owner...  business\n",
       "3  High fuel prices hit BA's profits\\n\\nBritish A...  business\n",
       "4  Pernod takeover talk lifts Domecq\\n\\nShares in...  business"
      ]
     },
     "execution_count": 11,
     "metadata": {},
     "output_type": "execute_result"
    }
   ],
   "source": [
    "df.head()"
   ]
  },
  {
   "cell_type": "code",
   "execution_count": 12,
   "metadata": {
    "id": "m12dRAZDrJZO"
   },
   "outputs": [],
   "source": [
    "# Preprocessing Data\n",
    "\n",
    "def preprocess_text(text):\n",
    "    text = text.lower()\n",
    "    text = ''.join([char for char in text if char.isalpha() or char.isspace()])\n",
    "    text = ' '.join([word for word in text.split() if word not in stop_words])\n",
    "    text = ' '.join([ps.stem(word) for word in text.split()])\n",
    "    return text\n",
    "\n",
    "df['processed_text'] = df['text'].apply(preprocess_text)\n",
    "X= df['processed_text']\n",
    "y = df[\"category\"]\n"
   ]
  },
  {
   "cell_type": "code",
   "execution_count": 13,
   "metadata": {
    "colab": {
     "base_uri": "https://localhost:8080/"
    },
    "id": "l0joCSgguA3Q",
    "outputId": "a4ca3549-04e7-45d4-c594-91e1029a1c7c"
   },
   "outputs": [
    {
     "data": {
      "text/plain": [
       "0    ad sale boost time warner profit quarterli pro...\n",
       "1    dollar gain greenspan speech dollar hit highes...\n",
       "2    yuko unit buyer face loan claim owner embattl ...\n",
       "3    high fuel price hit ba profit british airway b...\n",
       "4    pernod takeov talk lift domecq share uk drink ...\n",
       "Name: processed_text, dtype: object"
      ]
     },
     "execution_count": 13,
     "metadata": {},
     "output_type": "execute_result"
    }
   ],
   "source": [
    "X.head()"
   ]
  },
  {
   "cell_type": "code",
   "execution_count": 14,
   "metadata": {
    "colab": {
     "base_uri": "https://localhost:8080/"
    },
    "id": "kqVq2mQouDxY",
    "outputId": "9c0b6fa3-394e-4bb3-9d0e-b09e1b5de805"
   },
   "outputs": [
    {
     "data": {
      "text/plain": [
       "0    business\n",
       "1    business\n",
       "2    business\n",
       "3    business\n",
       "4    business\n",
       "Name: category, dtype: object"
      ]
     },
     "execution_count": 14,
     "metadata": {},
     "output_type": "execute_result"
    }
   ],
   "source": [
    "y.head()"
   ]
  },
  {
   "cell_type": "code",
   "execution_count": 15,
   "metadata": {
    "id": "EOcMecX3rPY1"
   },
   "outputs": [],
   "source": [
    "# Feature Extraction and Selection.\n",
    "\n",
    "count_vectorizer = CountVectorizer()\n",
    "tfidf_vectorizer = TfidfVectorizer()\n",
    "ngram_vectorizer = CountVectorizer(ngram_range=(2,2))\n",
    "\n",
    "X_count = count_vectorizer.fit_transform(X)\n",
    "X_tfidf = tfidf_vectorizer.fit_transform(X)\n",
    "X_ngrams = ngram_vectorizer.fit_transform(X)\n",
    "\n",
    "X_combined = pd.concat([pd.DataFrame(X_tfidf.toarray()),pd.DataFrame(X_count.toarray()),pd.DataFrame(X_ngrams.toarray())],axis=1)\n",
    "\n",
    "selector = SelectKBest(chi2,k=500)\n",
    "X_selected = selector.fit_transform(X_combined,y)"
   ]
  },
  {
   "cell_type": "code",
   "execution_count": 18,
   "metadata": {
    "id": "U4ItxK9ArSnl"
   },
   "outputs": [],
   "source": [
    "# Splitting our dataset into Training, Development (Validation) and Test set.\n",
    "\n",
    "X_train, X_val, y_train, y_val = train_test_split(X_selected,y, test_size=0.3, random_state=23)\n",
    "X_val , X_test, y_val, y_test = train_test_split(X_val, y_val, test_size=0.5, random_state=23)\n"
   ]
  },
  {
   "cell_type": "code",
   "execution_count": 19,
   "metadata": {
    "id": "5jwfg6Y7rgoZ"
   },
   "outputs": [
    {
     "name": "stdout",
     "output_type": "stream",
     "text": [
      "Fitting 5 folds for each of 48 candidates, totalling 240 fits\n",
      "[CV 1/5] END ..C=0.1, gamma=0.01, kernel=linear;, score=0.955 total time=   6.6s\n",
      "[CV 2/5] END ..C=0.1, gamma=0.01, kernel=linear;, score=0.958 total time=   0.0s\n",
      "[CV 3/5] END ..C=0.1, gamma=0.01, kernel=linear;, score=0.968 total time=   0.0s\n",
      "[CV 4/5] END ..C=0.1, gamma=0.01, kernel=linear;, score=0.958 total time=   0.0s\n",
      "[CV 5/5] END ..C=0.1, gamma=0.01, kernel=linear;, score=0.955 total time=   0.0s\n",
      "[CV 1/5] END .....C=0.1, gamma=0.01, kernel=rbf;, score=0.591 total time=   0.4s\n",
      "[CV 2/5] END .....C=0.1, gamma=0.01, kernel=rbf;, score=0.543 total time=   0.3s\n",
      "[CV 3/5] END .....C=0.1, gamma=0.01, kernel=rbf;, score=0.556 total time=   0.3s\n",
      "[CV 4/5] END .....C=0.1, gamma=0.01, kernel=rbf;, score=0.534 total time=   0.3s\n",
      "[CV 5/5] END .....C=0.1, gamma=0.01, kernel=rbf;, score=0.673 total time=   0.3s\n",
      "[CV 1/5] END ....C=0.1, gamma=0.01, kernel=poly;, score=0.668 total time=   0.1s\n",
      "[CV 2/5] END ....C=0.1, gamma=0.01, kernel=poly;, score=0.623 total time=   0.1s\n",
      "[CV 3/5] END ....C=0.1, gamma=0.01, kernel=poly;, score=0.741 total time=   0.1s\n",
      "[CV 4/5] END ....C=0.1, gamma=0.01, kernel=poly;, score=0.633 total time=   0.1s\n",
      "[CV 5/5] END ....C=0.1, gamma=0.01, kernel=poly;, score=0.676 total time=   0.1s\n",
      "[CV 1/5] END ...C=0.1, gamma=0.1, kernel=linear;, score=0.955 total time=   0.0s\n",
      "[CV 2/5] END ...C=0.1, gamma=0.1, kernel=linear;, score=0.958 total time=   0.0s\n",
      "[CV 3/5] END ...C=0.1, gamma=0.1, kernel=linear;, score=0.968 total time=   0.0s\n",
      "[CV 4/5] END ...C=0.1, gamma=0.1, kernel=linear;, score=0.958 total time=   0.0s\n",
      "[CV 5/5] END ...C=0.1, gamma=0.1, kernel=linear;, score=0.955 total time=   0.0s\n",
      "[CV 1/5] END ......C=0.1, gamma=0.1, kernel=rbf;, score=0.214 total time=   0.4s\n",
      "[CV 2/5] END ......C=0.1, gamma=0.1, kernel=rbf;, score=0.230 total time=   0.3s\n",
      "[CV 3/5] END ......C=0.1, gamma=0.1, kernel=rbf;, score=0.243 total time=   0.3s\n",
      "[CV 4/5] END ......C=0.1, gamma=0.1, kernel=rbf;, score=0.220 total time=   0.3s\n",
      "[CV 5/5] END ......C=0.1, gamma=0.1, kernel=rbf;, score=0.196 total time=   0.3s\n",
      "[CV 1/5] END .....C=0.1, gamma=0.1, kernel=poly;, score=0.840 total time=   0.0s\n",
      "[CV 2/5] END .....C=0.1, gamma=0.1, kernel=poly;, score=0.869 total time=   0.2s\n",
      "[CV 3/5] END .....C=0.1, gamma=0.1, kernel=poly;, score=0.907 total time=   0.0s\n",
      "[CV 4/5] END .....C=0.1, gamma=0.1, kernel=poly;, score=0.840 total time=   0.0s\n",
      "[CV 5/5] END .....C=0.1, gamma=0.1, kernel=poly;, score=0.891 total time=   0.0s\n",
      "[CV 1/5] END .....C=0.1, gamma=1, kernel=linear;, score=0.955 total time=   0.0s\n",
      "[CV 2/5] END .....C=0.1, gamma=1, kernel=linear;, score=0.958 total time=   0.0s\n",
      "[CV 3/5] END .....C=0.1, gamma=1, kernel=linear;, score=0.968 total time=   0.0s\n",
      "[CV 4/5] END .....C=0.1, gamma=1, kernel=linear;, score=0.958 total time=   0.0s\n",
      "[CV 5/5] END .....C=0.1, gamma=1, kernel=linear;, score=0.955 total time=   0.0s\n",
      "[CV 1/5] END ........C=0.1, gamma=1, kernel=rbf;, score=0.214 total time=   0.4s\n",
      "[CV 2/5] END ........C=0.1, gamma=1, kernel=rbf;, score=0.230 total time=   0.4s\n",
      "[CV 3/5] END ........C=0.1, gamma=1, kernel=rbf;, score=0.243 total time=   0.4s\n",
      "[CV 4/5] END ........C=0.1, gamma=1, kernel=rbf;, score=0.220 total time=   0.4s\n",
      "[CV 5/5] END ........C=0.1, gamma=1, kernel=rbf;, score=0.196 total time=   0.4s\n",
      "[CV 1/5] END .......C=0.1, gamma=1, kernel=poly;, score=0.847 total time=   0.1s\n",
      "[CV 2/5] END .......C=0.1, gamma=1, kernel=poly;, score=0.866 total time=   0.0s\n",
      "[CV 3/5] END .......C=0.1, gamma=1, kernel=poly;, score=0.895 total time=   0.0s\n",
      "[CV 4/5] END .......C=0.1, gamma=1, kernel=poly;, score=0.831 total time=   0.0s\n",
      "[CV 5/5] END .......C=0.1, gamma=1, kernel=poly;, score=0.881 total time=   0.0s\n",
      "[CV 1/5] END ...C=0.1, gamma=1.5, kernel=linear;, score=0.955 total time=   0.0s\n",
      "[CV 2/5] END ...C=0.1, gamma=1.5, kernel=linear;, score=0.958 total time=   0.0s\n",
      "[CV 3/5] END ...C=0.1, gamma=1.5, kernel=linear;, score=0.968 total time=   0.0s\n",
      "[CV 4/5] END ...C=0.1, gamma=1.5, kernel=linear;, score=0.958 total time=   0.0s\n",
      "[CV 5/5] END ...C=0.1, gamma=1.5, kernel=linear;, score=0.955 total time=   0.0s\n",
      "[CV 1/5] END ......C=0.1, gamma=1.5, kernel=rbf;, score=0.214 total time=   0.4s\n",
      "[CV 2/5] END ......C=0.1, gamma=1.5, kernel=rbf;, score=0.230 total time=   0.4s\n",
      "[CV 3/5] END ......C=0.1, gamma=1.5, kernel=rbf;, score=0.243 total time=   0.4s\n",
      "[CV 4/5] END ......C=0.1, gamma=1.5, kernel=rbf;, score=0.220 total time=   0.5s\n",
      "[CV 5/5] END ......C=0.1, gamma=1.5, kernel=rbf;, score=0.196 total time=   0.6s\n",
      "[CV 1/5] END .....C=0.1, gamma=1.5, kernel=poly;, score=0.847 total time=   0.1s\n",
      "[CV 2/5] END .....C=0.1, gamma=1.5, kernel=poly;, score=0.866 total time=   0.1s\n",
      "[CV 3/5] END .....C=0.1, gamma=1.5, kernel=poly;, score=0.895 total time=   0.1s\n",
      "[CV 4/5] END .....C=0.1, gamma=1.5, kernel=poly;, score=0.831 total time=   0.1s\n",
      "[CV 5/5] END .....C=0.1, gamma=1.5, kernel=poly;, score=0.881 total time=   0.0s\n",
      "[CV 1/5] END ..C=0.5, gamma=0.01, kernel=linear;, score=0.955 total time=   0.0s\n",
      "[CV 2/5] END ..C=0.5, gamma=0.01, kernel=linear;, score=0.958 total time=   0.0s\n",
      "[CV 3/5] END ..C=0.5, gamma=0.01, kernel=linear;, score=0.962 total time=   0.0s\n",
      "[CV 4/5] END ..C=0.5, gamma=0.01, kernel=linear;, score=0.955 total time=   0.0s\n",
      "[CV 5/5] END ..C=0.5, gamma=0.01, kernel=linear;, score=0.949 total time=   0.0s\n",
      "[CV 1/5] END .....C=0.5, gamma=0.01, kernel=rbf;, score=0.783 total time=   0.3s\n",
      "[CV 2/5] END .....C=0.5, gamma=0.01, kernel=rbf;, score=0.827 total time=   0.3s\n",
      "[CV 3/5] END .....C=0.5, gamma=0.01, kernel=rbf;, score=0.792 total time=   0.3s\n",
      "[CV 4/5] END .....C=0.5, gamma=0.01, kernel=rbf;, score=0.812 total time=   0.2s\n",
      "[CV 5/5] END .....C=0.5, gamma=0.01, kernel=rbf;, score=0.824 total time=   0.3s\n",
      "[CV 1/5] END ....C=0.5, gamma=0.01, kernel=poly;, score=0.776 total time=   0.1s\n",
      "[CV 2/5] END ....C=0.5, gamma=0.01, kernel=poly;, score=0.754 total time=   0.1s\n",
      "[CV 3/5] END ....C=0.5, gamma=0.01, kernel=poly;, score=0.831 total time=   0.1s\n",
      "[CV 4/5] END ....C=0.5, gamma=0.01, kernel=poly;, score=0.754 total time=   0.1s\n",
      "[CV 5/5] END ....C=0.5, gamma=0.01, kernel=poly;, score=0.769 total time=   0.1s\n",
      "[CV 1/5] END ...C=0.5, gamma=0.1, kernel=linear;, score=0.955 total time=   0.0s\n",
      "[CV 2/5] END ...C=0.5, gamma=0.1, kernel=linear;, score=0.958 total time=   0.0s\n",
      "[CV 3/5] END ...C=0.5, gamma=0.1, kernel=linear;, score=0.962 total time=   0.0s\n",
      "[CV 4/5] END ...C=0.5, gamma=0.1, kernel=linear;, score=0.955 total time=   0.0s\n",
      "[CV 5/5] END ...C=0.5, gamma=0.1, kernel=linear;, score=0.949 total time=   0.0s\n",
      "[CV 1/5] END ......C=0.5, gamma=0.1, kernel=rbf;, score=0.214 total time=   0.4s\n",
      "[CV 2/5] END ......C=0.5, gamma=0.1, kernel=rbf;, score=0.240 total time=   0.3s\n",
      "[CV 3/5] END ......C=0.5, gamma=0.1, kernel=rbf;, score=0.252 total time=   0.3s\n",
      "[CV 4/5] END ......C=0.5, gamma=0.1, kernel=rbf;, score=0.230 total time=   0.4s\n",
      "[CV 5/5] END ......C=0.5, gamma=0.1, kernel=rbf;, score=0.234 total time=   0.3s\n",
      "[CV 1/5] END .....C=0.5, gamma=0.1, kernel=poly;, score=0.847 total time=   0.0s\n",
      "[CV 2/5] END .....C=0.5, gamma=0.1, kernel=poly;, score=0.866 total time=   0.0s\n",
      "[CV 3/5] END .....C=0.5, gamma=0.1, kernel=poly;, score=0.904 total time=   0.0s\n",
      "[CV 4/5] END .....C=0.5, gamma=0.1, kernel=poly;, score=0.831 total time=   0.0s\n",
      "[CV 5/5] END .....C=0.5, gamma=0.1, kernel=poly;, score=0.907 total time=   0.0s\n",
      "[CV 1/5] END .....C=0.5, gamma=1, kernel=linear;, score=0.955 total time=   0.0s\n",
      "[CV 2/5] END .....C=0.5, gamma=1, kernel=linear;, score=0.958 total time=   0.0s\n",
      "[CV 3/5] END .....C=0.5, gamma=1, kernel=linear;, score=0.962 total time=   0.0s\n",
      "[CV 4/5] END .....C=0.5, gamma=1, kernel=linear;, score=0.955 total time=   0.0s\n",
      "[CV 5/5] END .....C=0.5, gamma=1, kernel=linear;, score=0.949 total time=   0.0s\n",
      "[CV 1/5] END ........C=0.5, gamma=1, kernel=rbf;, score=0.214 total time=   0.4s\n",
      "[CV 2/5] END ........C=0.5, gamma=1, kernel=rbf;, score=0.230 total time=   0.4s\n",
      "[CV 3/5] END ........C=0.5, gamma=1, kernel=rbf;, score=0.246 total time=   0.4s\n",
      "[CV 4/5] END ........C=0.5, gamma=1, kernel=rbf;, score=0.220 total time=   0.4s\n",
      "[CV 5/5] END ........C=0.5, gamma=1, kernel=rbf;, score=0.215 total time=   0.4s\n",
      "[CV 1/5] END .......C=0.5, gamma=1, kernel=poly;, score=0.847 total time=   0.0s\n",
      "[CV 2/5] END .......C=0.5, gamma=1, kernel=poly;, score=0.866 total time=   0.0s\n",
      "[CV 3/5] END .......C=0.5, gamma=1, kernel=poly;, score=0.895 total time=   0.0s\n",
      "[CV 4/5] END .......C=0.5, gamma=1, kernel=poly;, score=0.831 total time=   0.0s\n",
      "[CV 5/5] END .......C=0.5, gamma=1, kernel=poly;, score=0.881 total time=   0.0s\n",
      "[CV 1/5] END ...C=0.5, gamma=1.5, kernel=linear;, score=0.955 total time=   0.0s\n",
      "[CV 2/5] END ...C=0.5, gamma=1.5, kernel=linear;, score=0.958 total time=   0.0s\n",
      "[CV 3/5] END ...C=0.5, gamma=1.5, kernel=linear;, score=0.962 total time=   0.0s\n",
      "[CV 4/5] END ...C=0.5, gamma=1.5, kernel=linear;, score=0.955 total time=   0.0s\n",
      "[CV 5/5] END ...C=0.5, gamma=1.5, kernel=linear;, score=0.949 total time=   0.0s\n",
      "[CV 1/5] END ......C=0.5, gamma=1.5, kernel=rbf;, score=0.214 total time=   0.4s\n",
      "[CV 2/5] END ......C=0.5, gamma=1.5, kernel=rbf;, score=0.230 total time=   0.4s\n",
      "[CV 3/5] END ......C=0.5, gamma=1.5, kernel=rbf;, score=0.246 total time=   0.4s\n",
      "[CV 4/5] END ......C=0.5, gamma=1.5, kernel=rbf;, score=0.220 total time=   0.4s\n",
      "[CV 5/5] END ......C=0.5, gamma=1.5, kernel=rbf;, score=0.215 total time=   0.4s\n",
      "[CV 1/5] END .....C=0.5, gamma=1.5, kernel=poly;, score=0.847 total time=   0.0s\n",
      "[CV 2/5] END .....C=0.5, gamma=1.5, kernel=poly;, score=0.866 total time=   0.0s\n",
      "[CV 3/5] END .....C=0.5, gamma=1.5, kernel=poly;, score=0.895 total time=   0.0s\n",
      "[CV 4/5] END .....C=0.5, gamma=1.5, kernel=poly;, score=0.831 total time=   0.0s\n",
      "[CV 5/5] END .....C=0.5, gamma=1.5, kernel=poly;, score=0.881 total time=   0.0s\n",
      "[CV 1/5] END ....C=1, gamma=0.01, kernel=linear;, score=0.955 total time=   0.0s\n",
      "[CV 2/5] END ....C=1, gamma=0.01, kernel=linear;, score=0.958 total time=   0.0s\n",
      "[CV 3/5] END ....C=1, gamma=0.01, kernel=linear;, score=0.962 total time=   0.0s\n",
      "[CV 4/5] END ....C=1, gamma=0.01, kernel=linear;, score=0.955 total time=   0.0s\n",
      "[CV 5/5] END ....C=1, gamma=0.01, kernel=linear;, score=0.949 total time=   0.0s\n",
      "[CV 1/5] END .......C=1, gamma=0.01, kernel=rbf;, score=0.840 total time=   0.3s\n",
      "[CV 2/5] END .......C=1, gamma=0.01, kernel=rbf;, score=0.869 total time=   0.7s\n",
      "[CV 3/5] END .......C=1, gamma=0.01, kernel=rbf;, score=0.872 total time=   0.3s\n",
      "[CV 4/5] END .......C=1, gamma=0.01, kernel=rbf;, score=0.888 total time=   0.2s\n",
      "[CV 5/5] END .......C=1, gamma=0.01, kernel=rbf;, score=0.885 total time=   0.2s\n",
      "[CV 1/5] END ......C=1, gamma=0.01, kernel=poly;, score=0.792 total time=   0.1s\n",
      "[CV 2/5] END ......C=1, gamma=0.01, kernel=poly;, score=0.792 total time=   0.1s\n",
      "[CV 3/5] END ......C=1, gamma=0.01, kernel=poly;, score=0.837 total time=   0.1s\n",
      "[CV 4/5] END ......C=1, gamma=0.01, kernel=poly;, score=0.805 total time=   0.1s\n",
      "[CV 5/5] END ......C=1, gamma=0.01, kernel=poly;, score=0.788 total time=   0.1s\n",
      "[CV 1/5] END .....C=1, gamma=0.1, kernel=linear;, score=0.955 total time=   0.0s\n",
      "[CV 2/5] END .....C=1, gamma=0.1, kernel=linear;, score=0.958 total time=   0.0s\n",
      "[CV 3/5] END .....C=1, gamma=0.1, kernel=linear;, score=0.962 total time=   0.0s\n",
      "[CV 4/5] END .....C=1, gamma=0.1, kernel=linear;, score=0.955 total time=   0.0s\n",
      "[CV 5/5] END .....C=1, gamma=0.1, kernel=linear;, score=0.949 total time=   0.0s\n",
      "[CV 1/5] END ........C=1, gamma=0.1, kernel=rbf;, score=0.428 total time=   0.3s\n",
      "[CV 2/5] END ........C=1, gamma=0.1, kernel=rbf;, score=0.364 total time=   0.4s\n",
      "[CV 3/5] END ........C=1, gamma=0.1, kernel=rbf;, score=0.361 total time=   0.3s\n",
      "[CV 4/5] END ........C=1, gamma=0.1, kernel=rbf;, score=0.422 total time=   0.3s\n",
      "[CV 5/5] END ........C=1, gamma=0.1, kernel=rbf;, score=0.346 total time=   0.4s\n",
      "[CV 1/5] END .......C=1, gamma=0.1, kernel=poly;, score=0.847 total time=   0.0s\n",
      "[CV 2/5] END .......C=1, gamma=0.1, kernel=poly;, score=0.866 total time=   0.0s\n",
      "[CV 3/5] END .......C=1, gamma=0.1, kernel=poly;, score=0.895 total time=   0.0s\n",
      "[CV 4/5] END .......C=1, gamma=0.1, kernel=poly;, score=0.831 total time=   0.0s\n",
      "[CV 5/5] END .......C=1, gamma=0.1, kernel=poly;, score=0.897 total time=   0.0s\n",
      "[CV 1/5] END .......C=1, gamma=1, kernel=linear;, score=0.955 total time=   0.0s\n",
      "[CV 2/5] END .......C=1, gamma=1, kernel=linear;, score=0.958 total time=   0.0s\n",
      "[CV 3/5] END .......C=1, gamma=1, kernel=linear;, score=0.962 total time=   0.0s\n",
      "[CV 4/5] END .......C=1, gamma=1, kernel=linear;, score=0.955 total time=   0.0s\n",
      "[CV 5/5] END .......C=1, gamma=1, kernel=linear;, score=0.949 total time=   0.0s\n",
      "[CV 1/5] END ..........C=1, gamma=1, kernel=rbf;, score=0.281 total time=   0.4s\n",
      "[CV 2/5] END ..........C=1, gamma=1, kernel=rbf;, score=0.310 total time=   0.3s\n",
      "[CV 3/5] END ..........C=1, gamma=1, kernel=rbf;, score=0.335 total time=   0.3s\n",
      "[CV 4/5] END ..........C=1, gamma=1, kernel=rbf;, score=0.291 total time=   0.4s\n",
      "[CV 5/5] END ..........C=1, gamma=1, kernel=rbf;, score=0.279 total time=   0.4s\n",
      "[CV 1/5] END .........C=1, gamma=1, kernel=poly;, score=0.847 total time=   0.0s\n",
      "[CV 2/5] END .........C=1, gamma=1, kernel=poly;, score=0.866 total time=   0.0s\n",
      "[CV 3/5] END .........C=1, gamma=1, kernel=poly;, score=0.895 total time=   0.0s\n",
      "[CV 4/5] END .........C=1, gamma=1, kernel=poly;, score=0.831 total time=   0.0s\n",
      "[CV 5/5] END .........C=1, gamma=1, kernel=poly;, score=0.881 total time=   0.0s\n",
      "[CV 1/5] END .....C=1, gamma=1.5, kernel=linear;, score=0.955 total time=   0.0s\n",
      "[CV 2/5] END .....C=1, gamma=1.5, kernel=linear;, score=0.958 total time=   0.0s\n",
      "[CV 3/5] END .....C=1, gamma=1.5, kernel=linear;, score=0.962 total time=   0.0s\n",
      "[CV 4/5] END .....C=1, gamma=1.5, kernel=linear;, score=0.955 total time=   0.0s\n",
      "[CV 5/5] END .....C=1, gamma=1.5, kernel=linear;, score=0.949 total time=   0.0s\n",
      "[CV 1/5] END ........C=1, gamma=1.5, kernel=rbf;, score=0.278 total time=   0.4s\n",
      "[CV 2/5] END ........C=1, gamma=1.5, kernel=rbf;, score=0.310 total time=   0.4s\n",
      "[CV 3/5] END ........C=1, gamma=1.5, kernel=rbf;, score=0.329 total time=   0.4s\n",
      "[CV 4/5] END ........C=1, gamma=1.5, kernel=rbf;, score=0.284 total time=   0.5s\n",
      "[CV 5/5] END ........C=1, gamma=1.5, kernel=rbf;, score=0.272 total time=   0.4s\n",
      "[CV 1/5] END .......C=1, gamma=1.5, kernel=poly;, score=0.847 total time=   0.0s\n",
      "[CV 2/5] END .......C=1, gamma=1.5, kernel=poly;, score=0.866 total time=   0.0s\n",
      "[CV 3/5] END .......C=1, gamma=1.5, kernel=poly;, score=0.895 total time=   0.0s\n",
      "[CV 4/5] END .......C=1, gamma=1.5, kernel=poly;, score=0.831 total time=   0.0s\n",
      "[CV 5/5] END .......C=1, gamma=1.5, kernel=poly;, score=0.881 total time=   0.0s\n",
      "[CV 1/5] END ...C=10, gamma=0.01, kernel=linear;, score=0.955 total time=   0.0s\n",
      "[CV 2/5] END ...C=10, gamma=0.01, kernel=linear;, score=0.958 total time=   0.0s\n",
      "[CV 3/5] END ...C=10, gamma=0.01, kernel=linear;, score=0.962 total time=   0.0s\n",
      "[CV 4/5] END ...C=10, gamma=0.01, kernel=linear;, score=0.955 total time=   0.0s\n",
      "[CV 5/5] END ...C=10, gamma=0.01, kernel=linear;, score=0.949 total time=   0.0s\n",
      "[CV 1/5] END ......C=10, gamma=0.01, kernel=rbf;, score=0.863 total time=   0.3s\n",
      "[CV 2/5] END ......C=10, gamma=0.01, kernel=rbf;, score=0.882 total time=   0.3s\n",
      "[CV 3/5] END ......C=10, gamma=0.01, kernel=rbf;, score=0.885 total time=   0.3s\n",
      "[CV 4/5] END ......C=10, gamma=0.01, kernel=rbf;, score=0.901 total time=   0.2s\n",
      "[CV 5/5] END ......C=10, gamma=0.01, kernel=rbf;, score=0.891 total time=   0.3s\n",
      "[CV 1/5] END .....C=10, gamma=0.01, kernel=poly;, score=0.837 total time=   0.0s\n",
      "[CV 2/5] END .....C=10, gamma=0.01, kernel=poly;, score=0.843 total time=   0.0s\n",
      "[CV 3/5] END .....C=10, gamma=0.01, kernel=poly;, score=0.879 total time=   0.0s\n",
      "[CV 4/5] END .....C=10, gamma=0.01, kernel=poly;, score=0.850 total time=   0.0s\n",
      "[CV 5/5] END .....C=10, gamma=0.01, kernel=poly;, score=0.865 total time=   0.0s\n",
      "[CV 1/5] END ....C=10, gamma=0.1, kernel=linear;, score=0.955 total time=   0.0s\n",
      "[CV 2/5] END ....C=10, gamma=0.1, kernel=linear;, score=0.958 total time=   0.0s\n",
      "[CV 3/5] END ....C=10, gamma=0.1, kernel=linear;, score=0.962 total time=   0.0s\n",
      "[CV 4/5] END ....C=10, gamma=0.1, kernel=linear;, score=0.955 total time=   0.0s\n",
      "[CV 5/5] END ....C=10, gamma=0.1, kernel=linear;, score=0.949 total time=   0.0s\n",
      "[CV 1/5] END .......C=10, gamma=0.1, kernel=rbf;, score=0.438 total time=   0.3s\n",
      "[CV 2/5] END .......C=10, gamma=0.1, kernel=rbf;, score=0.367 total time=   0.3s\n",
      "[CV 3/5] END .......C=10, gamma=0.1, kernel=rbf;, score=0.367 total time=   0.3s\n",
      "[CV 4/5] END .......C=10, gamma=0.1, kernel=rbf;, score=0.428 total time=   0.3s\n",
      "[CV 5/5] END .......C=10, gamma=0.1, kernel=rbf;, score=0.359 total time=   0.3s\n",
      "[CV 1/5] END ......C=10, gamma=0.1, kernel=poly;, score=0.847 total time=   0.0s\n",
      "[CV 2/5] END ......C=10, gamma=0.1, kernel=poly;, score=0.866 total time=   0.0s\n",
      "[CV 3/5] END ......C=10, gamma=0.1, kernel=poly;, score=0.895 total time=   0.0s\n",
      "[CV 4/5] END ......C=10, gamma=0.1, kernel=poly;, score=0.831 total time=   0.0s\n",
      "[CV 5/5] END ......C=10, gamma=0.1, kernel=poly;, score=0.881 total time=   0.0s\n",
      "[CV 1/5] END ......C=10, gamma=1, kernel=linear;, score=0.955 total time=   0.0s\n",
      "[CV 2/5] END ......C=10, gamma=1, kernel=linear;, score=0.958 total time=   0.0s\n",
      "[CV 3/5] END ......C=10, gamma=1, kernel=linear;, score=0.962 total time=   0.0s\n",
      "[CV 4/5] END ......C=10, gamma=1, kernel=linear;, score=0.955 total time=   0.0s\n",
      "[CV 5/5] END ......C=10, gamma=1, kernel=linear;, score=0.949 total time=   0.0s\n",
      "[CV 1/5] END .........C=10, gamma=1, kernel=rbf;, score=0.281 total time=   0.4s\n",
      "[CV 2/5] END .........C=10, gamma=1, kernel=rbf;, score=0.310 total time=   0.4s\n",
      "[CV 3/5] END .........C=10, gamma=1, kernel=rbf;, score=0.342 total time=   0.3s\n",
      "[CV 4/5] END .........C=10, gamma=1, kernel=rbf;, score=0.294 total time=   0.3s\n",
      "[CV 5/5] END .........C=10, gamma=1, kernel=rbf;, score=0.282 total time=   0.4s\n",
      "[CV 1/5] END ........C=10, gamma=1, kernel=poly;, score=0.847 total time=   0.0s\n",
      "[CV 2/5] END ........C=10, gamma=1, kernel=poly;, score=0.866 total time=   0.0s\n",
      "[CV 3/5] END ........C=10, gamma=1, kernel=poly;, score=0.895 total time=   0.0s\n",
      "[CV 4/5] END ........C=10, gamma=1, kernel=poly;, score=0.831 total time=   0.0s\n",
      "[CV 5/5] END ........C=10, gamma=1, kernel=poly;, score=0.881 total time=   0.0s\n",
      "[CV 1/5] END ....C=10, gamma=1.5, kernel=linear;, score=0.955 total time=   0.0s\n",
      "[CV 2/5] END ....C=10, gamma=1.5, kernel=linear;, score=0.958 total time=   0.0s\n",
      "[CV 3/5] END ....C=10, gamma=1.5, kernel=linear;, score=0.962 total time=   0.0s\n",
      "[CV 4/5] END ....C=10, gamma=1.5, kernel=linear;, score=0.955 total time=   0.0s\n",
      "[CV 5/5] END ....C=10, gamma=1.5, kernel=linear;, score=0.949 total time=   0.0s\n",
      "[CV 1/5] END .......C=10, gamma=1.5, kernel=rbf;, score=0.281 total time=   0.4s\n",
      "[CV 2/5] END .......C=10, gamma=1.5, kernel=rbf;, score=0.310 total time=   0.4s\n",
      "[CV 3/5] END .......C=10, gamma=1.5, kernel=rbf;, score=0.335 total time=   0.4s\n",
      "[CV 4/5] END .......C=10, gamma=1.5, kernel=rbf;, score=0.291 total time=   0.4s\n",
      "[CV 5/5] END .......C=10, gamma=1.5, kernel=rbf;, score=0.279 total time=   0.4s\n",
      "[CV 1/5] END ......C=10, gamma=1.5, kernel=poly;, score=0.847 total time=   0.0s\n",
      "[CV 2/5] END ......C=10, gamma=1.5, kernel=poly;, score=0.866 total time=   0.1s\n",
      "[CV 3/5] END ......C=10, gamma=1.5, kernel=poly;, score=0.895 total time=   0.0s\n",
      "[CV 4/5] END ......C=10, gamma=1.5, kernel=poly;, score=0.831 total time=   0.0s\n",
      "[CV 5/5] END ......C=10, gamma=1.5, kernel=poly;, score=0.881 total time=   0.0s\n",
      "Best parameters: {'C': 0.1, 'gamma': 0.01, 'kernel': 'linear'}\n"
     ]
    }
   ],
   "source": [
    "# Training model and using development set for tuning hyperparameters for better accuracy.\n",
    "\n",
    "model = SVC()\n",
    "\n",
    "\n",
    "param_grid = {'C' : [0.1,0.5,1,10] , 'gamma' : [0.01,0.1,1,1.5], 'kernel' : ['linear','rbf', 'poly']}\n",
    "\n",
    "cv = KFold(n_splits=5, shuffle=True, random_state=23)\n",
    "grid_search = GridSearchCV(estimator = model, param_grid=param_grid, cv=cv, scoring='accuracy', verbose=3)\n",
    "\n",
    "grid_search.fit(X_train, y_train)\n",
    "\n",
    "best_model = grid_search.best_estimator_\n",
    "val_score = best_model.score(X_val,y_val)\n",
    "\n",
    "print(\"Best parameters:\", grid_search.best_params_)\n"
   ]
  },
  {
   "cell_type": "code",
   "execution_count": 20,
   "metadata": {
    "id": "-42blwlLrjdT"
   },
   "outputs": [
    {
     "name": "stdout",
     "output_type": "stream",
     "text": [
      "\n",
      " Accuracy : 0.9434523809523809\n",
      "\n",
      " Classification Report :\n",
      "               precision    recall  f1-score   support\n",
      "\n",
      "     business       0.93      0.93      0.93        86\n",
      "entertainment       0.95      0.97      0.96        63\n",
      "     politics       0.94      0.90      0.92        67\n",
      "        sport       0.98      0.98      0.98        64\n",
      "         tech       0.91      0.95      0.93        56\n",
      "\n",
      "     accuracy                           0.94       336\n",
      "    macro avg       0.94      0.94      0.94       336\n",
      " weighted avg       0.94      0.94      0.94       336\n",
      "\n"
     ]
    }
   ],
   "source": [
    "# Performing predictions and evaluating models performance based on best_model found during gridsearch.\n",
    "\n",
    "y_pred = best_model.predict(X_test)\n",
    "accuracy = accuracy_score(y_test, y_pred)\n",
    "print(\"\\n Accuracy :\", accuracy)\n",
    "\n",
    "print(\"\\n Classification Report :\")\n",
    "print(classification_report(y_test, y_pred))"
   ]
  },
  {
   "cell_type": "code",
   "execution_count": 23,
   "metadata": {
    "id": "WgB6XaTArnCP"
   },
   "outputs": [
    {
     "data": {
      "image/png": "[encoded data removed]",
      "text/plain": [
       "<Figure size 640x480 with 2 Axes>"
      ]
     },
     "metadata": {},
     "output_type": "display_data"
    }
   ],
   "source": [
    "# Confusion matrix which gives clear understanding between the actual and predicted labels.\n",
    "\n",
    "confusion_mat = confusion_matrix(y_test,y_pred)\n",
    "\n",
    "sns.heatmap(confusion_mat,annot=True, cmap='Blues',xticklabels=best_model.classes_, yticklabels=best_model.classes_)\n",
    "plt.xlabel(\"Actual\")\n",
    "plt.ylabel(\"Predicted\")\n",
    "\n",
    "plt.show()"
   ]
  },
  {
   "cell_type": "code",
   "execution_count": null,
   "metadata": {},
   "outputs": [],
   "source": []
  }
 ],
 "metadata": {
  "accelerator": "GPU",
  "colab": {
   "gpuType": "T4",
   "provenance": []
  },
  "kernelspec": {
   "display_name": "Python 3 (ipykernel)",
   "language": "python",
   "name": "python3"
  },
  "language_info": {
   "codemirror_mode": {
    "name": "ipython",
    "version": 3
   },
   "file_extension": ".py",
   "mimetype": "text/x-python",
   "name": "python",
   "nbconvert_exporter": "python",
   "pygments_lexer": "ipython3",
   "version": "3.11.4"
  }
 },
 "nbformat": 4,
 "nbformat_minor": 1
}
